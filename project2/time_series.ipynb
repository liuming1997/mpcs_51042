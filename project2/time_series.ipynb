{
 "cells": [
  {
   "cell_type": "markdown",
   "metadata": {},
   "source": [
    "We are looking at the data set for WiFi usage in the City of Chicago libraries.\n",
    "In general, we would expect an upwards trend in WiFi usage due to the increasing availability and awareness of WiFi resources.\n",
    "However, it would be interesting to see if there are seasonal ups and downs, because of the Chicago winter.\n",
    "It would also help to justify such programs in the future, as politicians are wont to cut funding to public programs.\n",
    "\n",
    "First using the constructor in time_series.py, we import the \"Libraries_WiFi.csv\" file from the data folder.\n",
    "This file contains WiFi usage statistics for the city of Chicago libraries from 2011 to 2014, by month.\n",
    "This set came from Canvas, but originally from the City of Chicago data page.\n",
    "\n",
    "We then clean up the inputs using a special function to append a column of Python datetime objects to our NumPy array, so that we can better handle date/time sorting and printing."
   ]
  },
  {
   "cell_type": "code",
   "execution_count": 1,
   "metadata": {},
   "outputs": [
    {
     "name": "stdout",
     "output_type": "stream",
     "text": [
      "[['DATE_TIME' 'MONTH' 'YEAR' 'NUMBER OF SESSIONS'\n",
      "  'CUMULATIVE NUMBER OF SESSIONS']\n",
      " [datetime.datetime(2011, 1, 1, 0, 0) 'January' '2011' '22263' '22263']\n",
      " [datetime.datetime(2011, 2, 1, 0, 0) 'February' '2011' '19657' '41920']\n",
      " [datetime.datetime(2011, 3, 1, 0, 0) 'March' '2011' '24506' '66426']\n",
      " [datetime.datetime(2011, 4, 1, 0, 0) 'April' '2011' '23998' '90424']\n",
      " [datetime.datetime(2011, 5, 1, 0, 0) 'May' '2011' '23242' '113666']\n",
      " [datetime.datetime(2011, 6, 1, 0, 0) 'June' '2011' '26044' '139710']\n",
      " [datetime.datetime(2011, 7, 1, 0, 0) 'July' '2011' '27735' '167445']\n",
      " [datetime.datetime(2011, 8, 1, 0, 0) 'August' '2011' '33934' '201379']\n",
      " [datetime.datetime(2011, 9, 1, 0, 0) 'September' '2011' '32714' '234093']\n",
      " [datetime.datetime(2011, 10, 1, 0, 0) 'October' '2011' '34760' '268853']\n",
      " [datetime.datetime(2011, 11, 1, 0, 0) 'November' '2011' '33535' '302388']\n",
      " [datetime.datetime(2011, 12, 1, 0, 0) 'December' '2011' '31842' '334230']\n",
      " [datetime.datetime(2012, 1, 1, 0, 0) 'January' '2012' '33089' '367319']\n",
      " [datetime.datetime(2012, 2, 1, 0, 0) 'February' '2012' '34428' '401747']\n",
      " [datetime.datetime(2012, 3, 1, 0, 0) 'March' '2012' '38230' '439977']\n",
      " [datetime.datetime(2012, 4, 1, 0, 0) 'April' '2012' '39164' '479141']\n",
      " [datetime.datetime(2012, 5, 1, 0, 0) 'May' '2012' '39272' '518413']\n",
      " [datetime.datetime(2012, 6, 1, 0, 0) 'June' '2012' '40431' '558844']\n",
      " [datetime.datetime(2012, 7, 1, 0, 0) 'July' '2012' '46069' '604913']\n",
      " [datetime.datetime(2012, 8, 1, 0, 0) 'August' '2012' '50608' '655521']\n",
      " [datetime.datetime(2012, 9, 1, 0, 0) 'September' '2012' '49951' '705472']\n",
      " [datetime.datetime(2012, 10, 1, 0, 0) 'October' '2012' '53894' '759366']\n",
      " [datetime.datetime(2012, 11, 1, 0, 0) 'November' '2012' '55583' '814949']\n",
      " [datetime.datetime(2012, 12, 1, 0, 0) 'December' '2012' '53593' '868542']\n",
      " [datetime.datetime(2013, 1, 1, 0, 0) 'January' '2013' '50927' '919469']\n",
      " [datetime.datetime(2013, 2, 1, 0, 0) 'February' '2013' '48984' '968453']\n",
      " [datetime.datetime(2013, 3, 1, 0, 0) 'March' '2013' '69759' '1038212']\n",
      " [datetime.datetime(2013, 4, 1, 0, 0) 'April' '2013' '114109' '1152321']\n",
      " [datetime.datetime(2013, 5, 1, 0, 0) 'May' '2013' '113753' '1266074']\n",
      " [datetime.datetime(2013, 6, 1, 0, 0) 'June' '2013' '135646' '1401720']\n",
      " [datetime.datetime(2013, 7, 1, 0, 0) 'July' '2013' '146590' '1548310']\n",
      " [datetime.datetime(2013, 8, 1, 0, 0) 'August' '2013' '117172' '1665482']\n",
      " [datetime.datetime(2013, 9, 1, 0, 0) 'September' '2013' '161535'\n",
      "  '1827017']\n",
      " [datetime.datetime(2013, 10, 1, 0, 0) 'October' '2013' '182595'\n",
      "  '2009612']\n",
      " [datetime.datetime(2013, 11, 1, 0, 0) 'November' '2013' '186981'\n",
      "  '2196593']\n",
      " [datetime.datetime(2013, 12, 1, 0, 0) 'December' '2013' '178934'\n",
      "  '2375527']\n",
      " [datetime.datetime(2014, 1, 1, 0, 0) 'January' '2014' '195108' '2570635']\n",
      " [datetime.datetime(2014, 2, 1, 0, 0) 'February' '2014' '195439'\n",
      "  '2766074']\n",
      " [datetime.datetime(2014, 3, 1, 0, 0) 'March' '2014' '239094' '3005168']\n",
      " [datetime.datetime(2014, 4, 1, 0, 0) 'April' '2014' '256150' '3261318']\n",
      " [datetime.datetime(2014, 5, 1, 0, 0) 'May' '2014' '242929' '3504247']\n",
      " [datetime.datetime(2014, 6, 1, 0, 0) 'June' '2014' '255340' '3759587']\n",
      " [datetime.datetime(2014, 7, 1, 0, 0) 'July' '2014' '284100' '4043687']\n",
      " [datetime.datetime(2014, 8, 1, 0, 0) 'August' '2014' '267902' '4311589']\n",
      " [datetime.datetime(2014, 9, 1, 0, 0) 'September' '2014' '279657'\n",
      "  '4591246']\n",
      " [datetime.datetime(2014, 10, 1, 0, 0) 'October' '2014' '301092'\n",
      "  '4892338']\n",
      " [datetime.datetime(2014, 11, 1, 0, 0) 'November' '2014' '265207'\n",
      "  '5157545']\n",
      " [datetime.datetime(2014, 12, 1, 0, 0) 'December' '2014' '264618'\n",
      "  '5422163']]\n"
     ]
    }
   ],
   "source": [
    "# import the \"Libraries_WiFi.csv\" file\n",
    "import time_series as ts\n",
    "import matplotlib.pyplot as plt\n",
    "import numpy as np\n",
    "wifi = ts.TimeSeries(\"data/Libraries_WiFi.csv\")\n",
    "# clean it up\n",
    "wifi.cleanup_wifi()\n",
    "print(wifi.data)"
   ]
  },
  {
   "cell_type": "markdown",
   "metadata": {},
   "source": [
    "We now plot the month/year on the X axis and the number of WiFi sessions on the Y axis."
   ]
  },
  {
   "cell_type": "code",
   "execution_count": 2,
   "metadata": {},
   "outputs": [
    {
     "data": {
      "image/png": "[encoded data removed]",
      "text/plain": [
       "<Figure size 432x288 with 1 Axes>"
      ]
     },
     "metadata": {
      "needs_background": "light"
     },
     "output_type": "display_data"
    }
   ],
   "source": [
    "# call the plot\n",
    "dates = []\n",
    "for date in wifi.data[1:,0]:\n",
    "    dates.append(date)\n",
    "numbers = []\n",
    "for point in wifi.data[1:,3].astype(int):\n",
    "    numbers.append(point)\n",
    "wifi.graph(dates, numbers)\n",
    "plt.locator_params(axis='y', nbins=6)\n",
    "plt.xticks(rotation=45)\n",
    "plt.ticklabel_format(axis='y', style=\"plain\")\n",
    "plt.title(\"City of Chicago Library WiFi usage data\")\n",
    "plt.xlabel(\"Year and month\")\n",
    "plt.ylabel(\"Library WiFi sessions/month\")\n",
    "wifi.show_graph()"
   ]
  },
  {
   "cell_type": "markdown",
   "metadata": {},
   "source": [
    "We would now like the calculate the moving average of our data. For our purposes, we'll do a 3-month moving average."
   ]
  },
  {
   "cell_type": "code",
   "execution_count": 3,
   "metadata": {},
   "outputs": [
    {
     "data": {
      "image/png": "[encoded data removed]",
      "text/plain": [
       "<Figure size 432x288 with 1 Axes>"
      ]
     },
     "metadata": {
      "needs_background": "light"
     },
     "output_type": "display_data"
    }
   ],
   "source": [
    "wifi.close_graph()\n",
    "\n",
    "# define the window\n",
    "window = 5\n",
    "usage = wifi.data[1:,3].astype(int)\n",
    "filtered = []\n",
    "for point in usage:\n",
    "    filtered.append(point)\n",
    "data = wifi.moving_average(filtered, window)\n",
    "movingAverage = data[0]\n",
    "window = data[1]\n",
    "dates = wifi.data[(1 + window // 2):(len(usage) - (window // 2) + 1), 0]\n",
    "\n",
    "wifi.graph(wifi.data[1:,0], filtered)\n",
    "wifi.graph(dates, movingAverage, 'b')\n",
    "plt.locator_params(axis='y', nbins=6)\n",
    "plt.xticks(rotation=45)\n",
    "plt.ticklabel_format(axis='y', style=\"plain\")\n",
    "plt.title(\"City of Chicago Library WiFi usage data\")\n",
    "plt.xlabel(\"Year and month\")\n",
    "plt.ylabel(\"Library WiFi sessions/month\")\n",
    "plt.gca().legend((\"Actual data\", (str(window) + \"-month moving average\")))  \n",
    "wifi.show_graph()"
   ]
  },
  {
   "cell_type": "markdown",
   "metadata": {},
   "source": [
    "We now use linear regression on the moving average to determine what kind, if any, relationship exists between months and library usage.\n",
    "\n",
    "We define the first month in our data set as month 1. Accordingly, the last month is thus month 48."
   ]
  },
  {
   "cell_type": "code",
   "execution_count": 4,
   "metadata": {},
   "outputs": [
    {
     "name": "stdout",
     "output_type": "stream",
     "text": [
      "Zero intercept (y=ax): a=4911.804840924012\n",
      "With intercept (y=ax+b): a=6514.598703312192 and b=-49817.45004933061\n"
     ]
    }
   ],
   "source": [
    "# our simple moving average \n",
    "times = list(range((1 + window // 2), (len(usage) - (window // 2) + 1)))\n",
    "# calculate y = ax + b\n",
    "a = np.vstack([np.array(times), np.ones(len(times))]).T\n",
    "# force zero intercept\n",
    "b = np.vstack([np.array(times), np.zeros(len(times))]).T\n",
    "m, c = wifi.least_squares(a, np.array(movingAverage))\n",
    "p, q = wifi.least_squares(b, np.array(movingAverage))\n",
    "print(\"Zero intercept (y=ax): a=\" + str(p))\n",
    "print(\"With intercept (y=ax+b): a=\" + str(m) + \" and b=\" + str(c))"
   ]
  },
  {
   "cell_type": "markdown",
   "metadata": {},
   "source": [
    "We now need to find the residuals for each, in order to determine which is the better model."
   ]
  },
  {
   "cell_type": "code",
   "execution_count": 5,
   "metadata": {},
   "outputs": [
    {
     "name": "stdout",
     "output_type": "stream",
     "text": [
      "Residuals with intercept: 42756319845.77353\n",
      "Residuals without intercept: 65879389113.29479\n"
     ]
    }
   ],
   "source": [
    "resid_with_intercept = wifi.residuals(times, movingAverage, m, c)\n",
    "print(\"Residuals with intercept: \" + str(resid_with_intercept))\n",
    "resid_without_intercept = wifi.residuals(times, movingAverage, p, q)\n",
    "print(\"Residuals without intercept: \" + str(resid_without_intercept))"
   ]
  },
  {
   "cell_type": "markdown",
   "metadata": {},
   "source": [
    "As can be seen, both residuals are very, very large, because the data is not very linear at all. However, the residual data for the equation with intercept is quite a bit smaller, so it is the preferable model.\n",
    "\n",
    "Regardless of model, both drastically undercount the future number of library WiFi users, because the count does not grow linearly, but rather somewhat more exponentially. Thus, the best approach would be to not use a linear model at all."
   ]
  }
 ],
 "metadata": {
  "interpreter": {
   "hash": "2ee50ee0cdf26703717c986e8cd7a1de5d3aa27f008ff56ac002de76902acb0b"
  },
  "kernelspec": {
   "display_name": "Python 3.8.12 64-bit ('base': conda)",
   "language": "python",
   "name": "python3"
  },
  "language_info": {
   "codemirror_mode": {
    "name": "ipython",
    "version": 3
   },
   "file_extension": ".py",
   "mimetype": "text/x-python",
   "name": "python",
   "nbconvert_exporter": "python",
   "pygments_lexer": "ipython3",
   "version": "3.8.12"
  },
  "orig_nbformat": 4
 },
 "nbformat": 4,
 "nbformat_minor": 2
}
